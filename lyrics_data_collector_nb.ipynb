{
 "cells": [
  {
   "cell_type": "code",
   "execution_count": 1,
   "metadata": {},
   "outputs": [
    {
     "name": "stderr",
     "output_type": "stream",
     "text": [
      "INFO:root:Started logging!\n",
      "WARNING:root:No song links found for artist A-Banca-021 and hence skipping this artist!\n",
      "/media/abhishek/Test/MLProjects/DatascienceProjects/LyricsDataCollector/lyrics_storage.py:93: FutureWarning: The default dtype for empty Series will be 'object' instead of 'float64' in a future version. Specify a dtype explicitly to silence this warning.\n",
      "  return pd.Series()\n",
      "WARNING:root:Data for artist a_banca_021 is not found in the storage\n"
     ]
    }
   ],
   "source": [
    "import lyrics_storage\n",
    "import lyrics_data_collector\n",
    "from lyrics_com_data_collector import LyricsComDataCollector\n",
    "from lyrics_storage import TARGET_LABEL, LYRICS_COL_LABEL\n",
    "import logging\n",
    "logger = logging.getLogger()\n",
    "logger.setLevel(logging.INFO)\n",
    "\n",
    "logger.info(\"Started logging!\")\n",
    "\n",
    "\n",
    "def create_lyrics_storage(type: str) -> lyrics_storage.LyricsStorage:\n",
    "\tif type == 'csv':\n",
    "\t\treturn lyrics_storage.LyricsStorageCSV('data')\n",
    "\n",
    "\n",
    "def create_data_collector(\n",
    "        url: str, lyrics_storage_type) -> LyricsComDataCollector:\n",
    "\turl = url.lstrip().rstrip()\n",
    "\tif url == '':\n",
    "\t\traise KeyError(\"Invalid url provided\")\n",
    "\n",
    "\tif (url == LyricsComDataCollector.source_url()):\n",
    "\n",
    "\t\treturn LyricsComDataCollector(create_lyrics_storage(lyrics_storage_type))\n",
    "\n",
    "\n",
    "artist_names = ['A-B-D-U-L', 'A-1000-Days-Gone', 'A-B-Veejay', 'A-Banca-021']\n",
    "\n",
    "# artist_names = ['Imagine-Dragons', 'Linkin-Park', 'Cold-Play']\n",
    "\n",
    "lyrics_data_collector = create_data_collector(\n",
    "\tLyricsComDataCollector.source_url(), 'csv')\n",
    "\n",
    "lyrics_data_collector.collect_lyrics_data(artist_names)\n",
    "\n",
    "lyrics_storage = lyrics_data_collector.get_lyrics_storage()\n",
    "\n",
    "artists_df = lyrics_storage.get_lyrics_data(artist_names)\n",
    "\n"
   ]
  }
 ],
 "metadata": {
  "kernelspec": {
   "display_name": "Python 3.9.5 ('venv': venv)",
   "language": "python",
   "name": "python3"
  },
  "language_info": {
   "codemirror_mode": {
    "name": "ipython",
    "version": 3
   },
   "file_extension": ".py",
   "mimetype": "text/x-python",
   "name": "python",
   "nbconvert_exporter": "python",
   "pygments_lexer": "ipython3",
   "version": "3.9.5"
  },
  "orig_nbformat": 4,
  "vscode": {
   "interpreter": {
    "hash": "25d317733d8fcec382f5a140e9653791c27f64198f566cb4d8fa473f1be8066a"
   }
  }
 },
 "nbformat": 4,
 "nbformat_minor": 2
}
