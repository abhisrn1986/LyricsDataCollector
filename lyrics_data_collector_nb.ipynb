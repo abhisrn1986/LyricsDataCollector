{
 "cells": [
  {
   "cell_type": "code",
   "execution_count": 2,
   "metadata": {},
   "outputs": [
    {
     "ename": "ModuleNotFoundError",
     "evalue": "No module named 'lyrics_storage'",
     "output_type": "error",
     "traceback": [
      "\u001b[0;31m---------------------------------------------------------------------------\u001b[0m",
      "\u001b[0;31mModuleNotFoundError\u001b[0m                       Traceback (most recent call last)",
      "Cell \u001b[0;32mIn [2], line 3\u001b[0m\n\u001b[1;32m      1\u001b[0m \u001b[39mfrom\u001b[39;00m \u001b[39mcollectors\u001b[39;00m\u001b[39m.\u001b[39;00m\u001b[39mlyrics_com_data_collector\u001b[39;00m \u001b[39mimport\u001b[39;00m LyricsComDataCollector\n\u001b[1;32m      2\u001b[0m \u001b[39mfrom\u001b[39;00m \u001b[39mstorages\u001b[39;00m\u001b[39m.\u001b[39;00m\u001b[39mlyrics_storage\u001b[39;00m \u001b[39mimport\u001b[39;00m LyricsStorage, TARGET_LABEL, LYRICS_COL_LABEL\n\u001b[0;32m----> 3\u001b[0m \u001b[39mfrom\u001b[39;00m \u001b[39mstorages\u001b[39;00m\u001b[39m.\u001b[39;00m\u001b[39mlyrics_storage_csv\u001b[39;00m \u001b[39mimport\u001b[39;00m LyricsStorageCSV\n\u001b[1;32m      4\u001b[0m \u001b[39mimport\u001b[39;00m \u001b[39mlogging\u001b[39;00m\n\u001b[1;32m      5\u001b[0m logger \u001b[39m=\u001b[39m logging\u001b[39m.\u001b[39mgetLogger()\n",
      "File \u001b[0;32m/media/abhishek/Test/MLProjects/DatascienceProjects/LyricsDataCollector/storages/lyrics_storage_csv.py:7\u001b[0m\n\u001b[1;32m      3\u001b[0m \u001b[39mimport\u001b[39;00m \u001b[39mlogging\u001b[39;00m\n\u001b[1;32m      5\u001b[0m \u001b[39mimport\u001b[39;00m \u001b[39mpandas\u001b[39;00m \u001b[39mas\u001b[39;00m \u001b[39mpd\u001b[39;00m\n\u001b[0;32m----> 7\u001b[0m \u001b[39mfrom\u001b[39;00m \u001b[39mlyrics_storage\u001b[39;00m \u001b[39mimport\u001b[39;00m LyricsStorage, TARGET_LABEL, SONG_NAME_LABEL\n\u001b[1;32m     10\u001b[0m \u001b[39mclass\u001b[39;00m \u001b[39mLyricsStorageCSV\u001b[39;00m(LyricsStorage):\n\u001b[1;32m     11\u001b[0m     \u001b[39mdef\u001b[39;00m \u001b[39m__init__\u001b[39m(\u001b[39mself\u001b[39m, lyrics_data_dir: \u001b[39mstr\u001b[39m) \u001b[39m-\u001b[39m\u001b[39m>\u001b[39m \u001b[39mNone\u001b[39;00m:\n",
      "\u001b[0;31mModuleNotFoundError\u001b[0m: No module named 'lyrics_storage'"
     ]
    }
   ],
   "source": [
    "from collectors.lyrics_com_data_collector import LyricsComDataCollector\n",
    "from storages.lyrics_storage import LyricsStorage, TARGET_LABEL, LYRICS_COL_LABEL\n",
    "from storages.lyrics_storage_csv import LyricsStorageCSV\n",
    "import logging\n",
    "logger = logging.getLogger()\n",
    "logger.setLevel(logging.INFO)\n",
    "\n",
    "logger.info(\"Started logging!\")\n",
    "\n",
    "\n",
    "def create_lyrics_storage(type: str) -> LyricsStorage:\n",
    "\tif type == 'csv':\n",
    "\t\treturn LyricsStorageCSV('data')\n",
    "\n",
    "\n",
    "def create_data_collector(\n",
    "        url: str, lyrics_storage_type) -> LyricsComDataCollector:\n",
    "\turl = url.lstrip().rstrip()\n",
    "\tif url == '':\n",
    "\t\traise KeyError(\"Invalid url provided\")\n",
    "\n",
    "\tif (url == LyricsComDataCollector.source_url()):\n",
    "\n",
    "\t\treturn LyricsComDataCollector(create_lyrics_storage(lyrics_storage_type))\n",
    "\n",
    "\n",
    "artist_names = ['A-B-D-U-L', 'A-1000-Days-Gone', 'A-B-Veejay', 'A-Banca-021']\n",
    "\n",
    "# artist_names = ['Imagine-Dragons', 'Linkin-Park', 'Cold-Play']\n",
    "\n",
    "lyrics_data_collector = create_data_collector(\n",
    "\tLyricsComDataCollector.source_url(), 'csv')\n",
    "\n",
    "lyrics_data_collector.collect_lyrics_data(artist_names)\n",
    "\n",
    "lyrics_storage = lyrics_data_collector.get_lyrics_storage()\n",
    "\n",
    "artists_df = lyrics_storage.get_lyrics_data(artist_names)\n"
   ]
  }
 ],
 "metadata": {
  "kernelspec": {
   "display_name": "Python 3.9.5 ('venv': venv)",
   "language": "python",
   "name": "python3"
  },
  "language_info": {
   "codemirror_mode": {
    "name": "ipython",
    "version": 3
   },
   "file_extension": ".py",
   "mimetype": "text/x-python",
   "name": "python",
   "nbconvert_exporter": "python",
   "pygments_lexer": "ipython3",
   "version": "3.9.5"
  },
  "orig_nbformat": 4,
  "vscode": {
   "interpreter": {
    "hash": "25d317733d8fcec382f5a140e9653791c27f64198f566cb4d8fa473f1be8066a"
   }
  }
 },
 "nbformat": 4,
 "nbformat_minor": 2
}
